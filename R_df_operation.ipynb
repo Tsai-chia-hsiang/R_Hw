{
 "cells": [
  {
   "cell_type": "markdown",
   "metadata": {},
   "source": [
    "# HW1"
   ]
  },
  {
   "cell_type": "code",
   "execution_count": 1,
   "metadata": {
    "vscode": {
     "languageId": "r"
    }
   },
   "outputs": [
    {
     "name": "stderr",
     "output_type": "stream",
     "text": [
      "── \u001b[1mAttaching packages\u001b[22m ─────────────────────────────────────── tidyverse 1.3.2 ──\n",
      "\u001b[32m✔\u001b[39m \u001b[34mggplot2\u001b[39m 3.4.0      \u001b[32m✔\u001b[39m \u001b[34mpurrr  \u001b[39m 0.3.5 \n",
      "\u001b[32m✔\u001b[39m \u001b[34mtibble \u001b[39m 3.1.8      \u001b[32m✔\u001b[39m \u001b[34mdplyr  \u001b[39m 1.0.10\n",
      "\u001b[32m✔\u001b[39m \u001b[34mtidyr  \u001b[39m 1.2.1      \u001b[32m✔\u001b[39m \u001b[34mstringr\u001b[39m 1.4.1 \n",
      "\u001b[32m✔\u001b[39m \u001b[34mreadr  \u001b[39m 2.1.3      \u001b[32m✔\u001b[39m \u001b[34mforcats\u001b[39m 0.5.2 \n",
      "── \u001b[1mConflicts\u001b[22m ────────────────────────────────────────── tidyverse_conflicts() ──\n",
      "\u001b[31m✖\u001b[39m \u001b[34mdplyr\u001b[39m::\u001b[32mfilter()\u001b[39m masks \u001b[34mstats\u001b[39m::filter()\n",
      "\u001b[31m✖\u001b[39m \u001b[34mdplyr\u001b[39m::\u001b[32mlag()\u001b[39m    masks \u001b[34mstats\u001b[39m::lag()\n"
     ]
    }
   ],
   "source": [
    "library(tidyverse)"
   ]
  },
  {
   "cell_type": "markdown",
   "metadata": {},
   "source": [
    "## Q1\n",
    "diamonds dataset exploration"
   ]
  },
  {
   "cell_type": "markdown",
   "metadata": {},
   "source": [
    "### 1. How many rows are in \"diamonds\" dataset? How many columns?"
   ]
  },
  {
   "cell_type": "markdown",
   "metadata": {},
   "source": [
    "#### Code"
   ]
  },
  {
   "cell_type": "code",
   "execution_count": 4,
   "metadata": {
    "vscode": {
     "languageId": "r"
    }
   },
   "outputs": [
    {
     "name": "stdout",
     "output_type": "stream",
     "text": [
      "row number : 53940\n",
      "col number : 10\n"
     ]
    }
   ],
   "source": [
    "numrow <- nrow(diamonds) \n",
    "numcol <- ncol(diamonds) \n",
    "writeLines(paste(\"row number :\", numrow), sep = \"\\n\")\n",
    "writeLines(paste(\"col number :\", numcol),sep = \"\\n\")"
   ]
  },
  {
   "cell_type": "markdown",
   "metadata": {},
   "source": [
    "#### Ans:\n",
    "- row number : 53940\n",
    "- col number : 10"
   ]
  },
  {
   "cell_type": "markdown",
   "metadata": {},
   "source": [
    "### 2. Please find out what attributes contains in the \"diamonds\" dataset."
   ]
  },
  {
   "cell_type": "markdown",
   "metadata": {},
   "source": [
    "#### Code"
   ]
  },
  {
   "cell_type": "code",
   "execution_count": 6,
   "metadata": {
    "vscode": {
     "languageId": "r"
    }
   },
   "outputs": [
    {
     "name": "stdout",
     "output_type": "stream",
     "text": [
      "carat\n",
      "cut\n",
      "color\n",
      "clarity\n",
      "depth\n",
      "table\n",
      "price\n",
      "x\n",
      "y\n",
      "z\n"
     ]
    }
   ],
   "source": [
    "attributes <- colnames(diamonds)\n",
    "for (attr in attributes){\n",
    "    writeLines(attr, sep = \"\\n\")\n",
    "}"
   ]
  },
  {
   "cell_type": "markdown",
   "metadata": {},
   "source": [
    "#### Ans:\n",
    "carat,\n",
    "cut,\n",
    "color,\n",
    "clarity,\n",
    "depth,\n",
    "table,\n",
    "price,\n",
    "x,\n",
    "y,\n",
    "z"
   ]
  },
  {
   "cell_type": "markdown",
   "metadata": {},
   "source": [
    "### 3.Please find out the high-quality diamonds via filter by\n",
    "- color(D) \n",
    "- cut(Ideal)\n",
    "- clarity(IF)."
   ]
  },
  {
   "cell_type": "markdown",
   "metadata": {},
   "source": [
    "#### Code "
   ]
  },
  {
   "cell_type": "code",
   "execution_count": 7,
   "metadata": {
    "vscode": {
     "languageId": "r"
    }
   },
   "outputs": [
    {
     "data": {
      "text/html": [
       "<table class=\"dataframe\">\n",
       "<caption>A tibble: 6 × 10</caption>\n",
       "<thead>\n",
       "\t<tr><th scope=col>carat</th><th scope=col>cut</th><th scope=col>color</th><th scope=col>clarity</th><th scope=col>depth</th><th scope=col>table</th><th scope=col>price</th><th scope=col>x</th><th scope=col>y</th><th scope=col>z</th></tr>\n",
       "\t<tr><th scope=col>&lt;dbl&gt;</th><th scope=col>&lt;ord&gt;</th><th scope=col>&lt;ord&gt;</th><th scope=col>&lt;ord&gt;</th><th scope=col>&lt;dbl&gt;</th><th scope=col>&lt;dbl&gt;</th><th scope=col>&lt;int&gt;</th><th scope=col>&lt;dbl&gt;</th><th scope=col>&lt;dbl&gt;</th><th scope=col>&lt;dbl&gt;</th></tr>\n",
       "</thead>\n",
       "<tbody>\n",
       "\t<tr><td>0.51</td><td>Ideal</td><td>D</td><td>IF</td><td>62.0</td><td>56</td><td>3446</td><td>5.14</td><td>5.18</td><td>3.20</td></tr>\n",
       "\t<tr><td>0.51</td><td>Ideal</td><td>D</td><td>IF</td><td>62.1</td><td>55</td><td>3446</td><td>5.12</td><td>5.13</td><td>3.19</td></tr>\n",
       "\t<tr><td>0.53</td><td>Ideal</td><td>D</td><td>IF</td><td>61.5</td><td>54</td><td>3517</td><td>5.27</td><td>5.21</td><td>3.22</td></tr>\n",
       "\t<tr><td>0.53</td><td>Ideal</td><td>D</td><td>IF</td><td>62.2</td><td>55</td><td>3812</td><td>5.17</td><td>5.19</td><td>3.22</td></tr>\n",
       "\t<tr><td>0.63</td><td>Ideal</td><td>D</td><td>IF</td><td>61.2</td><td>53</td><td>3832</td><td>5.55</td><td>5.60</td><td>3.41</td></tr>\n",
       "\t<tr><td>0.59</td><td>Ideal</td><td>D</td><td>IF</td><td>60.7</td><td>58</td><td>4161</td><td>5.45</td><td>5.49</td><td>3.32</td></tr>\n",
       "</tbody>\n",
       "</table>\n"
      ],
      "text/latex": [
       "A tibble: 6 × 10\n",
       "\\begin{tabular}{llllllllll}\n",
       " carat & cut & color & clarity & depth & table & price & x & y & z\\\\\n",
       " <dbl> & <ord> & <ord> & <ord> & <dbl> & <dbl> & <int> & <dbl> & <dbl> & <dbl>\\\\\n",
       "\\hline\n",
       "\t 0.51 & Ideal & D & IF & 62.0 & 56 & 3446 & 5.14 & 5.18 & 3.20\\\\\n",
       "\t 0.51 & Ideal & D & IF & 62.1 & 55 & 3446 & 5.12 & 5.13 & 3.19\\\\\n",
       "\t 0.53 & Ideal & D & IF & 61.5 & 54 & 3517 & 5.27 & 5.21 & 3.22\\\\\n",
       "\t 0.53 & Ideal & D & IF & 62.2 & 55 & 3812 & 5.17 & 5.19 & 3.22\\\\\n",
       "\t 0.63 & Ideal & D & IF & 61.2 & 53 & 3832 & 5.55 & 5.60 & 3.41\\\\\n",
       "\t 0.59 & Ideal & D & IF & 60.7 & 58 & 4161 & 5.45 & 5.49 & 3.32\\\\\n",
       "\\end{tabular}\n"
      ],
      "text/markdown": [
       "\n",
       "A tibble: 6 × 10\n",
       "\n",
       "| carat &lt;dbl&gt; | cut &lt;ord&gt; | color &lt;ord&gt; | clarity &lt;ord&gt; | depth &lt;dbl&gt; | table &lt;dbl&gt; | price &lt;int&gt; | x &lt;dbl&gt; | y &lt;dbl&gt; | z &lt;dbl&gt; |\n",
       "|---|---|---|---|---|---|---|---|---|---|\n",
       "| 0.51 | Ideal | D | IF | 62.0 | 56 | 3446 | 5.14 | 5.18 | 3.20 |\n",
       "| 0.51 | Ideal | D | IF | 62.1 | 55 | 3446 | 5.12 | 5.13 | 3.19 |\n",
       "| 0.53 | Ideal | D | IF | 61.5 | 54 | 3517 | 5.27 | 5.21 | 3.22 |\n",
       "| 0.53 | Ideal | D | IF | 62.2 | 55 | 3812 | 5.17 | 5.19 | 3.22 |\n",
       "| 0.63 | Ideal | D | IF | 61.2 | 53 | 3832 | 5.55 | 5.60 | 3.41 |\n",
       "| 0.59 | Ideal | D | IF | 60.7 | 58 | 4161 | 5.45 | 5.49 | 3.32 |\n",
       "\n"
      ],
      "text/plain": [
       "  carat cut   color clarity depth table price x    y    z   \n",
       "1 0.51  Ideal D     IF      62.0  56    3446  5.14 5.18 3.20\n",
       "2 0.51  Ideal D     IF      62.1  55    3446  5.12 5.13 3.19\n",
       "3 0.53  Ideal D     IF      61.5  54    3517  5.27 5.21 3.22\n",
       "4 0.53  Ideal D     IF      62.2  55    3812  5.17 5.19 3.22\n",
       "5 0.63  Ideal D     IF      61.2  53    3832  5.55 5.60 3.41\n",
       "6 0.59  Ideal D     IF      60.7  58    4161  5.45 5.49 3.32"
      ]
     },
     "metadata": {},
     "output_type": "display_data"
    }
   ],
   "source": [
    "high_q  <- filter(\n",
    "    diamonds, color == 'D' & cut == \"Ideal\" & clarity == \"IF\"\n",
    ")\n",
    "head(high_q)"
   ]
  },
  {
   "cell_type": "code",
   "execution_count": 18,
   "metadata": {
    "vscode": {
     "languageId": "r"
    }
   },
   "outputs": [
    {
     "data": {
      "text/html": [
       "<style>\n",
       ".list-inline {list-style: none; margin:0; padding: 0}\n",
       ".list-inline>li {display: inline-block}\n",
       ".list-inline>li:not(:last-child)::after {content: \"\\00b7\"; padding: 0 .5ex}\n",
       "</style>\n",
       "<ol class=list-inline><li>28</li><li>10</li></ol>\n"
      ],
      "text/latex": [
       "\\begin{enumerate*}\n",
       "\\item 28\n",
       "\\item 10\n",
       "\\end{enumerate*}\n"
      ],
      "text/markdown": [
       "1. 28\n",
       "2. 10\n",
       "\n",
       "\n"
      ],
      "text/plain": [
       "[1] 28 10"
      ]
     },
     "metadata": {},
     "output_type": "display_data"
    }
   ],
   "source": [
    "dim(high_q)"
   ]
  },
  {
   "cell_type": "code",
   "execution_count": 9,
   "metadata": {
    "vscode": {
     "languageId": "r"
    }
   },
   "outputs": [],
   "source": [
    "write_csv(high_q, file=file.path(\"subdf\", \"high_quality.csv\"))"
   ]
  },
  {
   "cell_type": "markdown",
   "metadata": {},
   "source": [
    "#### Ans:\n",
    "As above code"
   ]
  },
  {
   "cell_type": "markdown",
   "metadata": {},
   "source": [
    "### 4.Following the previous question, which diamond is most expensive? Sort the data to find the answer.\n"
   ]
  },
  {
   "cell_type": "markdown",
   "metadata": {},
   "source": [
    "#### Code"
   ]
  },
  {
   "cell_type": "code",
   "execution_count": 175,
   "metadata": {
    "vscode": {
     "languageId": "r"
    }
   },
   "outputs": [
    {
     "data": {
      "text/html": [
       "<table class=\"dataframe\">\n",
       "<caption>A tibble: 1 × 10</caption>\n",
       "<thead>\n",
       "\t<tr><th scope=col>carat</th><th scope=col>cut</th><th scope=col>color</th><th scope=col>clarity</th><th scope=col>depth</th><th scope=col>table</th><th scope=col>price</th><th scope=col>x</th><th scope=col>y</th><th scope=col>z</th></tr>\n",
       "\t<tr><th scope=col>&lt;dbl&gt;</th><th scope=col>&lt;ord&gt;</th><th scope=col>&lt;ord&gt;</th><th scope=col>&lt;ord&gt;</th><th scope=col>&lt;dbl&gt;</th><th scope=col>&lt;dbl&gt;</th><th scope=col>&lt;int&gt;</th><th scope=col>&lt;dbl&gt;</th><th scope=col>&lt;dbl&gt;</th><th scope=col>&lt;dbl&gt;</th></tr>\n",
       "</thead>\n",
       "<tbody>\n",
       "\t<tr><td>1.03</td><td>Ideal</td><td>D</td><td>IF</td><td>62</td><td>56</td><td>17590</td><td>6.55</td><td>6.44</td><td>4.03</td></tr>\n",
       "</tbody>\n",
       "</table>\n"
      ],
      "text/latex": [
       "A tibble: 1 × 10\n",
       "\\begin{tabular}{llllllllll}\n",
       " carat & cut & color & clarity & depth & table & price & x & y & z\\\\\n",
       " <dbl> & <ord> & <ord> & <ord> & <dbl> & <dbl> & <int> & <dbl> & <dbl> & <dbl>\\\\\n",
       "\\hline\n",
       "\t 1.03 & Ideal & D & IF & 62 & 56 & 17590 & 6.55 & 6.44 & 4.03\\\\\n",
       "\\end{tabular}\n"
      ],
      "text/markdown": [
       "\n",
       "A tibble: 1 × 10\n",
       "\n",
       "| carat &lt;dbl&gt; | cut &lt;ord&gt; | color &lt;ord&gt; | clarity &lt;ord&gt; | depth &lt;dbl&gt; | table &lt;dbl&gt; | price &lt;int&gt; | x &lt;dbl&gt; | y &lt;dbl&gt; | z &lt;dbl&gt; |\n",
       "|---|---|---|---|---|---|---|---|---|---|\n",
       "| 1.03 | Ideal | D | IF | 62 | 56 | 17590 | 6.55 | 6.44 | 4.03 |\n",
       "\n"
      ],
      "text/plain": [
       "  carat cut   color clarity depth table price x    y    z   \n",
       "1 1.03  Ideal D     IF      62    56    17590 6.55 6.44 4.03"
      ]
     },
     "metadata": {},
     "output_type": "display_data"
    },
    {
     "name": "stderr",
     "output_type": "stream",
     "text": [
      "highest price in high qualiy group :\n",
      "17590\n",
      "\n"
     ]
    }
   ],
   "source": [
    "price_order <- high_q[order(-high_q$price),]\n",
    "View(price_order[1,])\n",
    "highest_price = price_order[1,\"price\"] %>% as.integer()\n",
    "message(\n",
    "    paste(\n",
    "        \"highest price in high qualiy group :\\n\",\n",
    "        highest_price,sep=\"\"\n",
    "    )\n",
    ")"
   ]
  },
  {
   "cell_type": "code",
   "execution_count": 173,
   "metadata": {
    "vscode": {
     "languageId": "r"
    }
   },
   "outputs": [
    {
     "data": {
      "text/html": [
       "<table class=\"dataframe\">\n",
       "<caption>A tibble: 1 × 10</caption>\n",
       "<thead>\n",
       "\t<tr><th scope=col>carat</th><th scope=col>cut</th><th scope=col>color</th><th scope=col>clarity</th><th scope=col>depth</th><th scope=col>table</th><th scope=col>price</th><th scope=col>x</th><th scope=col>y</th><th scope=col>z</th></tr>\n",
       "\t<tr><th scope=col>&lt;dbl&gt;</th><th scope=col>&lt;ord&gt;</th><th scope=col>&lt;ord&gt;</th><th scope=col>&lt;ord&gt;</th><th scope=col>&lt;dbl&gt;</th><th scope=col>&lt;dbl&gt;</th><th scope=col>&lt;int&gt;</th><th scope=col>&lt;dbl&gt;</th><th scope=col>&lt;dbl&gt;</th><th scope=col>&lt;dbl&gt;</th></tr>\n",
       "</thead>\n",
       "<tbody>\n",
       "\t<tr><td>2.29</td><td>Premium</td><td>I</td><td>VS2</td><td>60.8</td><td>60</td><td>18823</td><td>8.5</td><td>8.47</td><td>5.16</td></tr>\n",
       "</tbody>\n",
       "</table>\n"
      ],
      "text/latex": [
       "A tibble: 1 × 10\n",
       "\\begin{tabular}{llllllllll}\n",
       " carat & cut & color & clarity & depth & table & price & x & y & z\\\\\n",
       " <dbl> & <ord> & <ord> & <ord> & <dbl> & <dbl> & <int> & <dbl> & <dbl> & <dbl>\\\\\n",
       "\\hline\n",
       "\t 2.29 & Premium & I & VS2 & 60.8 & 60 & 18823 & 8.5 & 8.47 & 5.16\\\\\n",
       "\\end{tabular}\n"
      ],
      "text/markdown": [
       "\n",
       "A tibble: 1 × 10\n",
       "\n",
       "| carat &lt;dbl&gt; | cut &lt;ord&gt; | color &lt;ord&gt; | clarity &lt;ord&gt; | depth &lt;dbl&gt; | table &lt;dbl&gt; | price &lt;int&gt; | x &lt;dbl&gt; | y &lt;dbl&gt; | z &lt;dbl&gt; |\n",
       "|---|---|---|---|---|---|---|---|---|---|\n",
       "| 2.29 | Premium | I | VS2 | 60.8 | 60 | 18823 | 8.5 | 8.47 | 5.16 |\n",
       "\n"
      ],
      "text/plain": [
       "  carat cut     color clarity depth table price x   y    z   \n",
       "1 2.29  Premium I     VS2     60.8  60    18823 8.5 8.47 5.16"
      ]
     },
     "metadata": {},
     "output_type": "display_data"
    },
    {
     "name": "stderr",
     "output_type": "stream",
     "text": [
      "global highest price in high qualiy group :\n",
      "18823\n",
      "\n"
     ]
    }
   ],
   "source": [
    "global_price_order <- diamonds[order(-diamonds$price),]\n",
    "View(global_price_order[1,])\n",
    "highest_price_global = global_price_order [1,\"price\"] %>% as.integer()\n",
    "message(\n",
    "    paste(\n",
    "        \"global highest price in high qualiy group :\\n\",\n",
    "        highest_price_global,sep=\"\"\n",
    "    )\n",
    ")"
   ]
  },
  {
   "cell_type": "markdown",
   "metadata": {},
   "source": [
    "#### Ans:\n",
    "\n",
    "For the high quality group, the highest price of them is 17590.\n",
    "\n",
    "However, for all diamonds in the dataset, the highest price \n",
    "is 18823.\n",
    "\n",
    "I think the reason that the diamond which has the highest price isn't in the high quality group is the __carat__.\n",
    "\n",
    "For the diamonds that has price 18823 are heavier(2.29 carats) than \n",
    "the most expensive diamonds in high quality group(1.03 carats).\n",
    "\n"
   ]
  },
  {
   "cell_type": "markdown",
   "metadata": {},
   "source": [
    "### 5. Please group the diamond by color, cut, and clarity. Calculate the mean price and mean carat for each group."
   ]
  },
  {
   "cell_type": "markdown",
   "metadata": {},
   "source": [
    "#### Code"
   ]
  },
  {
   "cell_type": "markdown",
   "metadata": {},
   "source": [
    "##### For each one"
   ]
  },
  {
   "cell_type": "code",
   "execution_count": 159,
   "metadata": {
    "vscode": {
     "languageId": "r"
    }
   },
   "outputs": [
    {
     "data": {
      "text/html": [
       "<table class=\"dataframe\">\n",
       "<caption>A tibble: 7 × 3</caption>\n",
       "<thead>\n",
       "\t<tr><th scope=col>color</th><th scope=col>mean_price</th><th scope=col>mean_carat</th></tr>\n",
       "\t<tr><th scope=col>&lt;ord&gt;</th><th scope=col>&lt;dbl&gt;</th><th scope=col>&lt;dbl&gt;</th></tr>\n",
       "</thead>\n",
       "<tbody>\n",
       "\t<tr><td>D</td><td>3169.954</td><td>0.6577948</td></tr>\n",
       "\t<tr><td>E</td><td>3076.752</td><td>0.6578667</td></tr>\n",
       "\t<tr><td>F</td><td>3724.886</td><td>0.7365385</td></tr>\n",
       "\t<tr><td>G</td><td>3999.136</td><td>0.7711902</td></tr>\n",
       "\t<tr><td>H</td><td>4486.669</td><td>0.9117991</td></tr>\n",
       "\t<tr><td>I</td><td>5091.875</td><td>1.0269273</td></tr>\n",
       "\t<tr><td>J</td><td>5323.818</td><td>1.1621368</td></tr>\n",
       "</tbody>\n",
       "</table>\n"
      ],
      "text/latex": [
       "A tibble: 7 × 3\n",
       "\\begin{tabular}{lll}\n",
       " color & mean\\_price & mean\\_carat\\\\\n",
       " <ord> & <dbl> & <dbl>\\\\\n",
       "\\hline\n",
       "\t D & 3169.954 & 0.6577948\\\\\n",
       "\t E & 3076.752 & 0.6578667\\\\\n",
       "\t F & 3724.886 & 0.7365385\\\\\n",
       "\t G & 3999.136 & 0.7711902\\\\\n",
       "\t H & 4486.669 & 0.9117991\\\\\n",
       "\t I & 5091.875 & 1.0269273\\\\\n",
       "\t J & 5323.818 & 1.1621368\\\\\n",
       "\\end{tabular}\n"
      ],
      "text/markdown": [
       "\n",
       "A tibble: 7 × 3\n",
       "\n",
       "| color &lt;ord&gt; | mean_price &lt;dbl&gt; | mean_carat &lt;dbl&gt; |\n",
       "|---|---|---|\n",
       "| D | 3169.954 | 0.6577948 |\n",
       "| E | 3076.752 | 0.6578667 |\n",
       "| F | 3724.886 | 0.7365385 |\n",
       "| G | 3999.136 | 0.7711902 |\n",
       "| H | 4486.669 | 0.9117991 |\n",
       "| I | 5091.875 | 1.0269273 |\n",
       "| J | 5323.818 | 1.1621368 |\n",
       "\n"
      ],
      "text/plain": [
       "  color mean_price mean_carat\n",
       "1 D     3169.954   0.6577948 \n",
       "2 E     3076.752   0.6578667 \n",
       "3 F     3724.886   0.7365385 \n",
       "4 G     3999.136   0.7711902 \n",
       "5 H     4486.669   0.9117991 \n",
       "6 I     5091.875   1.0269273 \n",
       "7 J     5323.818   1.1621368 "
      ]
     },
     "metadata": {},
     "output_type": "display_data"
    }
   ],
   "source": [
    "color_g <- diamonds %>% group_by(color) \n",
    "mean_p_c <- color_g %>% summarise(mean_price=mean(price), mean_carat=mean(carat))\n",
    "View(mean_p_c)\n",
    "write_csv(mean_p_c, file.path(\"subdf\",\"diamonds\", \"color_group_mean_price_carat.csv\"))"
   ]
  },
  {
   "cell_type": "code",
   "execution_count": 160,
   "metadata": {
    "vscode": {
     "languageId": "r"
    }
   },
   "outputs": [
    {
     "data": {
      "text/html": [
       "<table class=\"dataframe\">\n",
       "<caption>A tibble: 5 × 3</caption>\n",
       "<thead>\n",
       "\t<tr><th scope=col>cut</th><th scope=col>mean_price</th><th scope=col>mean_carat</th></tr>\n",
       "\t<tr><th scope=col>&lt;ord&gt;</th><th scope=col>&lt;dbl&gt;</th><th scope=col>&lt;dbl&gt;</th></tr>\n",
       "</thead>\n",
       "<tbody>\n",
       "\t<tr><td>Fair     </td><td>4358.758</td><td>1.0461366</td></tr>\n",
       "\t<tr><td>Good     </td><td>3928.864</td><td>0.8491847</td></tr>\n",
       "\t<tr><td>Very Good</td><td>3981.760</td><td>0.8063814</td></tr>\n",
       "\t<tr><td>Premium  </td><td>4584.258</td><td>0.8919549</td></tr>\n",
       "\t<tr><td>Ideal    </td><td>3457.542</td><td>0.7028370</td></tr>\n",
       "</tbody>\n",
       "</table>\n"
      ],
      "text/latex": [
       "A tibble: 5 × 3\n",
       "\\begin{tabular}{lll}\n",
       " cut & mean\\_price & mean\\_carat\\\\\n",
       " <ord> & <dbl> & <dbl>\\\\\n",
       "\\hline\n",
       "\t Fair      & 4358.758 & 1.0461366\\\\\n",
       "\t Good      & 3928.864 & 0.8491847\\\\\n",
       "\t Very Good & 3981.760 & 0.8063814\\\\\n",
       "\t Premium   & 4584.258 & 0.8919549\\\\\n",
       "\t Ideal     & 3457.542 & 0.7028370\\\\\n",
       "\\end{tabular}\n"
      ],
      "text/markdown": [
       "\n",
       "A tibble: 5 × 3\n",
       "\n",
       "| cut &lt;ord&gt; | mean_price &lt;dbl&gt; | mean_carat &lt;dbl&gt; |\n",
       "|---|---|---|\n",
       "| Fair      | 4358.758 | 1.0461366 |\n",
       "| Good      | 3928.864 | 0.8491847 |\n",
       "| Very Good | 3981.760 | 0.8063814 |\n",
       "| Premium   | 4584.258 | 0.8919549 |\n",
       "| Ideal     | 3457.542 | 0.7028370 |\n",
       "\n"
      ],
      "text/plain": [
       "  cut       mean_price mean_carat\n",
       "1 Fair      4358.758   1.0461366 \n",
       "2 Good      3928.864   0.8491847 \n",
       "3 Very Good 3981.760   0.8063814 \n",
       "4 Premium   4584.258   0.8919549 \n",
       "5 Ideal     3457.542   0.7028370 "
      ]
     },
     "metadata": {},
     "output_type": "display_data"
    }
   ],
   "source": [
    "cut_g <- diamonds %>% group_by(cut) \n",
    "mean_p_c <- cut_g %>% summarise(mean_price=mean(price), mean_carat=mean(carat))\n",
    "View(mean_p_c)\n",
    "write_csv(mean_p_c, file.path(\"subdf\",\"diamonds\", \"cut_group_mean_price_carat.csv\"))"
   ]
  },
  {
   "cell_type": "code",
   "execution_count": 161,
   "metadata": {
    "vscode": {
     "languageId": "r"
    }
   },
   "outputs": [
    {
     "data": {
      "text/html": [
       "<table class=\"dataframe\">\n",
       "<caption>A tibble: 8 × 3</caption>\n",
       "<thead>\n",
       "\t<tr><th scope=col>clarity</th><th scope=col>mean_price</th><th scope=col>mean_carat</th></tr>\n",
       "\t<tr><th scope=col>&lt;ord&gt;</th><th scope=col>&lt;dbl&gt;</th><th scope=col>&lt;dbl&gt;</th></tr>\n",
       "</thead>\n",
       "<tbody>\n",
       "\t<tr><td>I1  </td><td>3924.169</td><td>1.2838462</td></tr>\n",
       "\t<tr><td>SI2 </td><td>5063.029</td><td>1.0776485</td></tr>\n",
       "\t<tr><td>SI1 </td><td>3996.001</td><td>0.8504822</td></tr>\n",
       "\t<tr><td>VS2 </td><td>3924.989</td><td>0.7639346</td></tr>\n",
       "\t<tr><td>VS1 </td><td>3839.455</td><td>0.7271582</td></tr>\n",
       "\t<tr><td>VVS2</td><td>3283.737</td><td>0.5962021</td></tr>\n",
       "\t<tr><td>VVS1</td><td>2523.115</td><td>0.5033215</td></tr>\n",
       "\t<tr><td>IF  </td><td>2864.839</td><td>0.5051229</td></tr>\n",
       "</tbody>\n",
       "</table>\n"
      ],
      "text/latex": [
       "A tibble: 8 × 3\n",
       "\\begin{tabular}{lll}\n",
       " clarity & mean\\_price & mean\\_carat\\\\\n",
       " <ord> & <dbl> & <dbl>\\\\\n",
       "\\hline\n",
       "\t I1   & 3924.169 & 1.2838462\\\\\n",
       "\t SI2  & 5063.029 & 1.0776485\\\\\n",
       "\t SI1  & 3996.001 & 0.8504822\\\\\n",
       "\t VS2  & 3924.989 & 0.7639346\\\\\n",
       "\t VS1  & 3839.455 & 0.7271582\\\\\n",
       "\t VVS2 & 3283.737 & 0.5962021\\\\\n",
       "\t VVS1 & 2523.115 & 0.5033215\\\\\n",
       "\t IF   & 2864.839 & 0.5051229\\\\\n",
       "\\end{tabular}\n"
      ],
      "text/markdown": [
       "\n",
       "A tibble: 8 × 3\n",
       "\n",
       "| clarity &lt;ord&gt; | mean_price &lt;dbl&gt; | mean_carat &lt;dbl&gt; |\n",
       "|---|---|---|\n",
       "| I1   | 3924.169 | 1.2838462 |\n",
       "| SI2  | 5063.029 | 1.0776485 |\n",
       "| SI1  | 3996.001 | 0.8504822 |\n",
       "| VS2  | 3924.989 | 0.7639346 |\n",
       "| VS1  | 3839.455 | 0.7271582 |\n",
       "| VVS2 | 3283.737 | 0.5962021 |\n",
       "| VVS1 | 2523.115 | 0.5033215 |\n",
       "| IF   | 2864.839 | 0.5051229 |\n",
       "\n"
      ],
      "text/plain": [
       "  clarity mean_price mean_carat\n",
       "1 I1      3924.169   1.2838462 \n",
       "2 SI2     5063.029   1.0776485 \n",
       "3 SI1     3996.001   0.8504822 \n",
       "4 VS2     3924.989   0.7639346 \n",
       "5 VS1     3839.455   0.7271582 \n",
       "6 VVS2    3283.737   0.5962021 \n",
       "7 VVS1    2523.115   0.5033215 \n",
       "8 IF      2864.839   0.5051229 "
      ]
     },
     "metadata": {},
     "output_type": "display_data"
    }
   ],
   "source": [
    "clarity_g <- diamonds %>% group_by(clarity) \n",
    "mean_p_c <- clarity_g %>% summarise(mean_price=mean(price), mean_carat=mean(carat))\n",
    "View(mean_p_c)\n",
    "write_csv(mean_p_c, file.path(\"subdf\",\"diamonds\", \"clarity_group_mean_price_carat.csv\"))"
   ]
  },
  {
   "cell_type": "markdown",
   "metadata": {},
   "source": [
    "##### Three Factors togather"
   ]
  },
  {
   "cell_type": "code",
   "execution_count": 169,
   "metadata": {
    "vscode": {
     "languageId": "r"
    }
   },
   "outputs": [
    {
     "name": "stderr",
     "output_type": "stream",
     "text": [
      "\u001b[1m\u001b[22m`summarise()` has grouped output by 'color', 'cut'. You can override using the\n",
      "`.groups` argument.\n"
     ]
    }
   ],
   "source": [
    "allfactor_g <- diamonds %>% group_by(color,cut,clarity)\n",
    "mean_price_carat <- allfactor_g %>% summarise(\n",
    "    mean_price=mean(price),\n",
    "    mean_carat = mean(carat)\n",
    ")\n",
    "write_csv(mean_price_carat, file.path(\"subdf\",\"diamonds\", \"all_quality_factors.csv\"))"
   ]
  },
  {
   "cell_type": "markdown",
   "metadata": {},
   "source": [
    "#### Ans:\n",
    "As above code"
   ]
  },
  {
   "cell_type": "markdown",
   "metadata": {},
   "source": [
    "### 6. Following the previous question, explore the relationship between the carat and price for each quality of diamonds and plot by scatter plots."
   ]
  },
  {
   "cell_type": "markdown",
   "metadata": {},
   "source": [
    "#### Code"
   ]
  },
  {
   "cell_type": "markdown",
   "metadata": {},
   "source": [
    "##### Overall carat and price"
   ]
  },
  {
   "cell_type": "code",
   "execution_count": 7,
   "metadata": {
    "vscode": {
     "languageId": "r"
    }
   },
   "outputs": [
    {
     "name": "stderr",
     "output_type": "stream",
     "text": [
      "\u001b[1m\u001b[22m`geom_smooth()` using method = 'gam' and formula = 'y ~ s(x, bs = \"cs\")'\n",
      "\u001b[1m\u001b[22mSaving 6.67 x 6.67 in image\n",
      "\u001b[1m\u001b[22m`geom_smooth()` using method = 'gam' and formula = 'y ~ s(x, bs = \"cs\")'\n"
     ]
    },
    {
     "data": {
      "image/png": "[encoded data removed]",
      "text/plain": [
       "plot without title"
      ]
     },
     "metadata": {
      "image/png": {
       "height": 420,
       "width": 420
      }
     },
     "output_type": "display_data"
    }
   ],
   "source": [
    "ggplot(\n",
    "    diamonds, aes(x=carat, y=price)\n",
    ") + geom_point() + geom_smooth() +labs(\n",
    "    title=\"Overall\"\n",
    ") + theme(\n",
    "    plot.title=element_text(hjust = 0.5,size=20)\n",
    ")\n",
    "\n",
    "ggsave(file.path(\"plot\", \"Overall_carat_price_scatter.jpg\"))"
   ]
  },
  {
   "cell_type": "markdown",
   "metadata": {},
   "source": [
    "##### Color aspect"
   ]
  },
  {
   "cell_type": "code",
   "execution_count": 13,
   "metadata": {
    "vscode": {
     "languageId": "r"
    }
   },
   "outputs": [
    {
     "name": "stderr",
     "output_type": "stream",
     "text": [
      "\u001b[1m\u001b[22mSaving 6.67 x 6.67 in image\n"
     ]
    },
    {
     "data": {
      "image/png": "[encoded data removed]",
      "text/plain": [
       "plot without title"
      ]
     },
     "metadata": {
      "image/png": {
       "height": 420,
       "width": 420
      }
     },
     "output_type": "display_data"
    }
   ],
   "source": [
    "ggplot(\n",
    "    diamonds, aes(x = carat,y = price, color=color)\n",
    ") + geom_point() + labs(\n",
    "    title=\"Color\"\n",
    ") + theme(\n",
    "    plot.title=element_text(hjust = 0.5,size=20)\n",
    ")\n",
    "\n",
    "ggsave(file.path(\"plot\",\"diamonds\", \"Color_carat_price_scatter.jpg\"))"
   ]
  },
  {
   "cell_type": "markdown",
   "metadata": {},
   "source": [
    "##### Cut aspect"
   ]
  },
  {
   "cell_type": "code",
   "execution_count": 15,
   "metadata": {
    "vscode": {
     "languageId": "r"
    }
   },
   "outputs": [
    {
     "name": "stderr",
     "output_type": "stream",
     "text": [
      "\u001b[1m\u001b[22mSaving 6.67 x 6.67 in image\n"
     ]
    },
    {
     "data": {
      "image/png": "[encoded data removed]",
      "text/plain": [
       "plot without title"
      ]
     },
     "metadata": {
      "image/png": {
       "height": 420,
       "width": 420
      }
     },
     "output_type": "display_data"
    }
   ],
   "source": [
    "ggplot(\n",
    "    diamonds, aes(x = carat,y = price, color=cut)\n",
    ") + geom_point() + labs(\n",
    "    title=\"Cut\"\n",
    ") + theme(\n",
    "    plot.title=element_text(hjust = 0.5,size=20)\n",
    ")\n",
    "\n",
    "ggsave(file.path(\"plot\",\"diamonds\",\"Cut_carat_price_scatter.jpg\"))"
   ]
  },
  {
   "cell_type": "markdown",
   "metadata": {},
   "source": [
    "##### Clarity aspect"
   ]
  },
  {
   "cell_type": "code",
   "execution_count": 16,
   "metadata": {
    "vscode": {
     "languageId": "r"
    }
   },
   "outputs": [
    {
     "name": "stderr",
     "output_type": "stream",
     "text": [
      "\u001b[1m\u001b[22mSaving 6.67 x 6.67 in image\n"
     ]
    },
    {
     "data": {
      "image/png": "[encoded data removed]",
      "text/plain": [
       "plot without title"
      ]
     },
     "metadata": {
      "image/png": {
       "height": 420,
       "width": 420
      }
     },
     "output_type": "display_data"
    }
   ],
   "source": [
    "ggplot(\n",
    "    diamonds, aes(x = carat,y = price, color=clarity)\n",
    ") + geom_point() + labs(\n",
    "    title=\"Clarity\"\n",
    ") + theme(\n",
    "    plot.title=element_text(hjust = 0.5,size=20)\n",
    ")\n",
    "\n",
    "ggsave(file.path(\"plot\",\"diamonds\", \"Clarity_carat_price_scatter.jpg\"))"
   ]
  },
  {
   "cell_type": "markdown",
   "metadata": {},
   "source": [
    "#### Ans:\n",
    "\n",
    "Overall, the __heavier__ a dimond, the __more expensive__ it is.\n",
    "\n",
    "- Color aspect:\n",
    "\n",
    "    From the scatter plot ```Color```, when their carat are the same, different colors are in different price range.\n",
    "    \n",
    "    I think it is because there is a order between different colors of the diamond. \n",
    "\n",
    "    - The order of the color according to the plot ```Color``` (worst -> best):\n",
    "\n",
    "        $J \\to  I \\to H \\to G \\to F \\to E \\to D$\n",
    "\n",
    "- So as about clarity, cut\n",
    "\n",
    "    - The order of the cut according to the plot ```Cut``` (worst -> best):\n",
    "    \n",
    "        $\\text{Fair} \\to \\text{Good} \\to \\text{Very Good} \\to \\text{Premium}\\to \\text{Ideal}$\n",
    "\n",
    "    - The order of the clarity according to plot ```Clarity``` (worst -> best):\n",
    "\n",
    "        $\\text{I1}\\to \\text{SI1}\\to \\text{SI2}\\to \\text{VS2}\\to \\text{VS1} \\to \\text{VVS2} \\to \\text{VVS1} \\to \\text{IF}$\n",
    "\n"
   ]
  },
  {
   "cell_type": "markdown",
   "metadata": {},
   "source": [
    "## Q2\n",
    "\n",
    "midwest dataset exploration"
   ]
  },
  {
   "cell_type": "markdown",
   "metadata": {},
   "source": [
    "### 1. How many counties in Illinois?"
   ]
  },
  {
   "cell_type": "markdown",
   "metadata": {},
   "source": [
    "#### Code"
   ]
  },
  {
   "cell_type": "code",
   "execution_count": 63,
   "metadata": {
    "vscode": {
     "languageId": "r"
    }
   },
   "outputs": [
    {
     "data": {
      "text/html": [
       "<style>\n",
       ".list-inline {list-style: none; margin:0; padding: 0}\n",
       ".list-inline>li {display: inline-block}\n",
       ".list-inline>li:not(:last-child)::after {content: \"\\00b7\"; padding: 0 .5ex}\n",
       "</style>\n",
       "<ol class=list-inline><li>102</li><li>28</li></ol>\n"
      ],
      "text/latex": [
       "\\begin{enumerate*}\n",
       "\\item 102\n",
       "\\item 28\n",
       "\\end{enumerate*}\n"
      ],
      "text/markdown": [
       "1. 102\n",
       "2. 28\n",
       "\n",
       "\n"
      ],
      "text/plain": [
       "[1] 102  28"
      ]
     },
     "metadata": {},
     "output_type": "display_data"
    }
   ],
   "source": [
    "Illinois  <- filter(midwest, state == 'IL')\n",
    "dim(Illinois)"
   ]
  },
  {
   "cell_type": "code",
   "execution_count": 48,
   "metadata": {
    "vscode": {
     "languageId": "r"
    }
   },
   "outputs": [
    {
     "name": "stderr",
     "output_type": "stream",
     "text": [
      "102\n",
      "\n"
     ]
    }
   ],
   "source": [
    "# Just check if it has duplicated county\n",
    "unique_county_num <- nrow(\n",
    "    Illinois[!duplicated(Illinois[,c('county')]),]\n",
    ")\n",
    "message(unique_county_num)"
   ]
  },
  {
   "cell_type": "markdown",
   "metadata": {},
   "source": [
    "#### Ans:\n",
    "There are 102 unique counties in IL."
   ]
  },
  {
   "cell_type": "markdown",
   "metadata": {},
   "source": [
    "### 2. How many counties' populations are more than 10000 and less than 20000 in Illinois?"
   ]
  },
  {
   "cell_type": "markdown",
   "metadata": {},
   "source": [
    "#### Code"
   ]
  },
  {
   "cell_type": "code",
   "execution_count": 49,
   "metadata": {
    "vscode": {
     "languageId": "r"
    }
   },
   "outputs": [
    {
     "data": {
      "text/html": [
       "31"
      ],
      "text/latex": [
       "31"
      ],
      "text/markdown": [
       "31"
      ],
      "text/plain": [
       "[1] 31"
      ]
     },
     "metadata": {},
     "output_type": "display_data"
    }
   ],
   "source": [
    "target_population_row <- Illinois$poptotal > 10000 & Illinois$poptotal < 20000\n",
    "target_region <- Illinois[target_population_row,]\n",
    "nrow(target_region)"
   ]
  },
  {
   "cell_type": "code",
   "execution_count": 50,
   "metadata": {
    "vscode": {
     "languageId": "r"
    }
   },
   "outputs": [],
   "source": [
    "write_csv(target_region, file.path(\"subdf\",\"midwest\", \"IL_pop10000_20000.csv\"))"
   ]
  },
  {
   "cell_type": "markdown",
   "metadata": {},
   "source": [
    "#### Ans:\n",
    "There are 31 counties in IL that the total population are between 10000 to 20000"
   ]
  },
  {
   "cell_type": "markdown",
   "metadata": {},
   "source": [
    "### 3. Which county is the least population in Illinois? How much population is it? Sort the data to find the answer.\n"
   ]
  },
  {
   "cell_type": "markdown",
   "metadata": {},
   "source": [
    "#### Code"
   ]
  },
  {
   "cell_type": "code",
   "execution_count": 64,
   "metadata": {
    "vscode": {
     "languageId": "r"
    }
   },
   "outputs": [
    {
     "data": {
      "text/html": [
       "<table class=\"dataframe\">\n",
       "<caption>A tibble: 1 × 6</caption>\n",
       "<thead>\n",
       "\t<tr><th scope=col>PID</th><th scope=col>county</th><th scope=col>state</th><th scope=col>area</th><th scope=col>poptotal</th><th scope=col>popdensity</th></tr>\n",
       "\t<tr><th scope=col>&lt;int&gt;</th><th scope=col>&lt;chr&gt;</th><th scope=col>&lt;chr&gt;</th><th scope=col>&lt;dbl&gt;</th><th scope=col>&lt;int&gt;</th><th scope=col>&lt;dbl&gt;</th></tr>\n",
       "</thead>\n",
       "<tbody>\n",
       "\t<tr><td>636</td><td>POPE</td><td>IL</td><td>0.022</td><td>4373</td><td>198.7727</td></tr>\n",
       "</tbody>\n",
       "</table>\n"
      ],
      "text/latex": [
       "A tibble: 1 × 6\n",
       "\\begin{tabular}{llllll}\n",
       " PID & county & state & area & poptotal & popdensity\\\\\n",
       " <int> & <chr> & <chr> & <dbl> & <int> & <dbl>\\\\\n",
       "\\hline\n",
       "\t 636 & POPE & IL & 0.022 & 4373 & 198.7727\\\\\n",
       "\\end{tabular}\n"
      ],
      "text/markdown": [
       "\n",
       "A tibble: 1 × 6\n",
       "\n",
       "| PID &lt;int&gt; | county &lt;chr&gt; | state &lt;chr&gt; | area &lt;dbl&gt; | poptotal &lt;int&gt; | popdensity &lt;dbl&gt; |\n",
       "|---|---|---|---|---|---|\n",
       "| 636 | POPE | IL | 0.022 | 4373 | 198.7727 |\n",
       "\n"
      ],
      "text/plain": [
       "  PID county state area  poptotal popdensity\n",
       "1 636 POPE   IL    0.022 4373     198.7727  "
      ]
     },
     "metadata": {},
     "output_type": "display_data"
    }
   ],
   "source": [
    "pop_order <-Illinois[order(Illinois$poptotal),]\n",
    "needed_view <- c(\n",
    "    'PID','county','state','area','poptotal','popdensity'\n",
    ")\n",
    "View(pop_order[1,needed_view ])"
   ]
  },
  {
   "cell_type": "markdown",
   "metadata": {},
   "source": [
    "#### Ans:\n",
    "POPE has the least pop number: 4373"
   ]
  },
  {
   "cell_type": "markdown",
   "metadata": {},
   "source": [
    "### 4. Please find out the relationship between area, total population, and population density. Try to figure out how to calculate population density on this dataset."
   ]
  },
  {
   "cell_type": "markdown",
   "metadata": {},
   "source": [
    "#### Code"
   ]
  },
  {
   "cell_type": "code",
   "execution_count": 73,
   "metadata": {
    "vscode": {
     "languageId": "r"
    }
   },
   "outputs": [
    {
     "data": {
      "image/png": "[encoded data removed]",
      "text/plain": [
       "plot without title"
      ]
     },
     "metadata": {
      "image/png": {
       "height": 420,
       "width": 420
      }
     },
     "output_type": "display_data"
    }
   ],
   "source": [
    "ggplot(\n",
    "    midwest, aes(x = area, y = poptotal,color = popdensity)\n",
    ")+geom_point()"
   ]
  },
  {
   "cell_type": "code",
   "execution_count": 74,
   "metadata": {
    "vscode": {
     "languageId": "r"
    }
   },
   "outputs": [],
   "source": [
    "d <- midwest$poptotal / midwest$area\n",
    "plottting_df <- data.frame(midwest$area,midwest$poptotal,d)\n",
    "message(colnames(plottting_df))"
   ]
  },
  {
   "cell_type": "code",
   "execution_count": 80,
   "metadata": {
    "vscode": {
     "languageId": "r"
    }
   },
   "outputs": [
    {
     "data": {
      "image/png": "[encoded data removed]",
      "text/plain": [
       "plot without title"
      ]
     },
     "metadata": {
      "image/png": {
       "height": 420,
       "width": 420
      }
     },
     "output_type": "display_data"
    }
   ],
   "source": [
    "ggplot(\n",
    "    plottting_df, aes(x = midwest.area, y=midwest.poptotal, color= d)\n",
    ")+geom_point()"
   ]
  },
  {
   "cell_type": "code",
   "execution_count": 83,
   "metadata": {
    "vscode": {
     "languageId": "r"
    }
   },
   "outputs": [
    {
     "data": {
      "image/png": "[encoded data removed]",
      "text/plain": [
       "plot without title"
      ]
     },
     "metadata": {
      "image/png": {
       "height": 420,
       "width": 420
      }
     },
     "output_type": "display_data"
    }
   ],
   "source": [
    "# Normalization about area unit:\n",
    "d_n <- midwest$poptotal / (midwest$area*1000)\n",
    "\n",
    "plottting_df <- data.frame(midwest$area,midwest$poptotal,d_n)\n",
    "ggplot(\n",
    "    plottting_df, aes(x = midwest.area, y=midwest.poptotal, color= d_n)\n",
    ")+geom_point()"
   ]
  },
  {
   "cell_type": "markdown",
   "metadata": {},
   "source": [
    "### Ans:\n",
    "\n",
    "I divide the ```poptotal``` by ```area```, and the value of them are $10^3$ times to the value of ```popdensity```.\n",
    "(By the label of the scatter plot)\n",
    "\n",
    "Hence, I normalize the value of area by multiple $10^3$ to them and calculate density again.\n",
    "\n",
    "In conclusion,I think the formula of population density of this dataset is:\n",
    "$\\text{popdensity} = \\frac{\\text{poptotal}}{\\text{area}*10^3}$"
   ]
  },
  {
   "cell_type": "markdown",
   "metadata": {},
   "source": [
    "### 5. Following the previous question, What is the population density of Illinois?"
   ]
  },
  {
   "cell_type": "markdown",
   "metadata": {},
   "source": [
    "#### Code"
   ]
  },
  {
   "cell_type": "code",
   "execution_count": 84,
   "metadata": {
    "vscode": {
     "languageId": "r"
    }
   },
   "outputs": [
    {
     "name": "stderr",
     "output_type": "stream",
     "text": [
      "total population :11430602\n",
      "\n",
      "total area :3.304\n",
      "\n",
      "popdensity :3459.62530266344\n",
      "\n"
     ]
    }
   ],
   "source": [
    "IL_total_pop <- sum(Illinois[c('poptotal')])\n",
    "IL_total_area <- sum(Illinois[c('area')])\n",
    "IL_d = IL_total_pop / (IL_total_area*1000)\n",
    "message(paste(\"total population :\",IL_total_pop,sep=\"\"))\n",
    "message(paste(\"total area :\",IL_total_area,sep=\"\"))\n",
    "message(paste(\"popdensity :\",IL_d ,sep=\"\"))"
   ]
  },
  {
   "cell_type": "markdown",
   "metadata": {},
   "source": [
    "#### Ans:\n",
    "about 3459.63"
   ]
  },
  {
   "cell_type": "markdown",
   "metadata": {},
   "source": [
    "### 6. What is the population density of each state? Plot the bar plot to show it."
   ]
  },
  {
   "cell_type": "markdown",
   "metadata": {},
   "source": [
    "#### Code"
   ]
  },
  {
   "cell_type": "code",
   "execution_count": 2,
   "metadata": {
    "vscode": {
     "languageId": "r"
    }
   },
   "outputs": [],
   "source": [
    "all_state <- midwest[!duplicated(midwest[,c('state')]), ]$state\n"
   ]
  },
  {
   "cell_type": "code",
   "execution_count": 20,
   "metadata": {
    "vscode": {
     "languageId": "r"
    }
   },
   "outputs": [],
   "source": [
    "d_list = c()\n",
    "for (st in all_state){\n",
    "    st_df <- filter(midwest, state == st)\n",
    "    d <- sum(st_df[c('poptotal')]) / (sum(st_df[c('area')])*1000)\n",
    "    d_list<-append(d_list, d, after = length(d_list))\n",
    "}"
   ]
  },
  {
   "cell_type": "code",
   "execution_count": 21,
   "metadata": {
    "vscode": {
     "languageId": "r"
    }
   },
   "outputs": [
    {
     "data": {
      "text/html": [
       "<table class=\"dataframe\">\n",
       "<caption>A data.frame: 5 × 2</caption>\n",
       "<thead>\n",
       "\t<tr><th scope=col>ST</th><th scope=col>d</th></tr>\n",
       "\t<tr><th scope=col>&lt;chr&gt;</th><th scope=col>&lt;dbl&gt;</th></tr>\n",
       "</thead>\n",
       "<tbody>\n",
       "\t<tr><td>IL</td><td>3459.625</td></tr>\n",
       "\t<tr><td>IN</td><td>2606.563</td></tr>\n",
       "\t<tr><td>MI</td><td>2768.930</td></tr>\n",
       "\t<tr><td>OH</td><td>4480.428</td></tr>\n",
       "\t<tr><td>WI</td><td>1488.670</td></tr>\n",
       "</tbody>\n",
       "</table>\n"
      ],
      "text/latex": [
       "A data.frame: 5 × 2\n",
       "\\begin{tabular}{ll}\n",
       " ST & d\\\\\n",
       " <chr> & <dbl>\\\\\n",
       "\\hline\n",
       "\t IL & 3459.625\\\\\n",
       "\t IN & 2606.563\\\\\n",
       "\t MI & 2768.930\\\\\n",
       "\t OH & 4480.428\\\\\n",
       "\t WI & 1488.670\\\\\n",
       "\\end{tabular}\n"
      ],
      "text/markdown": [
       "\n",
       "A data.frame: 5 × 2\n",
       "\n",
       "| ST &lt;chr&gt; | d &lt;dbl&gt; |\n",
       "|---|---|\n",
       "| IL | 3459.625 |\n",
       "| IN | 2606.563 |\n",
       "| MI | 2768.930 |\n",
       "| OH | 4480.428 |\n",
       "| WI | 1488.670 |\n",
       "\n"
      ],
      "text/plain": [
       "  ST d       \n",
       "1 IL 3459.625\n",
       "2 IN 2606.563\n",
       "3 MI 2768.930\n",
       "4 OH 4480.428\n",
       "5 WI 1488.670"
      ]
     },
     "metadata": {},
     "output_type": "display_data"
    }
   ],
   "source": [
    "st_density_df <- data.frame(\"ST\"=all_state,\"d\"=d_list)\n",
    "st_density_df"
   ]
  },
  {
   "cell_type": "code",
   "execution_count": 22,
   "metadata": {
    "vscode": {
     "languageId": "r"
    }
   },
   "outputs": [],
   "source": [
    "write_csv(st_density_df,file.path(\"subdf\", \"midwest\", \"state_d.csv\") )"
   ]
  },
  {
   "cell_type": "code",
   "execution_count": 27,
   "metadata": {
    "vscode": {
     "languageId": "r"
    }
   },
   "outputs": [
    {
     "name": "stderr",
     "output_type": "stream",
     "text": [
      "\u001b[1m\u001b[22mSaving 6.67 x 6.67 in image\n"
     ]
    },
    {
     "data": {
      "image/png": "[encoded data removed]",
      "text/plain": [
       "plot without title"
      ]
     },
     "metadata": {
      "image/png": {
       "height": 420,
       "width": 420
      }
     },
     "output_type": "display_data"
    }
   ],
   "source": [
    "ggplot(\n",
    "    st_density_df, aes(x=ST, y=d)\n",
    ") + geom_bar(\n",
    "    stat=\"identity\"\n",
    ") + labs(\n",
    "    x = \"State\",y = \"popdensity\"\n",
    ")\n",
    "\n",
    "ggsave(file.path(\"plot\",\"midwest\", \"st_popdensity.jpg\"))"
   ]
  },
  {
   "cell_type": "markdown",
   "metadata": {},
   "source": [
    "## Q3\n",
    "\n",
    "sleep dataset exploration"
   ]
  },
  {
   "cell_type": "markdown",
   "metadata": {},
   "source": [
    "### 1. How many rows are in \"sleep\" dataset? How many columns?"
   ]
  },
  {
   "cell_type": "markdown",
   "metadata": {},
   "source": [
    "#### Code"
   ]
  },
  {
   "cell_type": "code",
   "execution_count": 32,
   "metadata": {
    "vscode": {
     "languageId": "r"
    }
   },
   "outputs": [
    {
     "name": "stderr",
     "output_type": "stream",
     "text": [
      "row num :  20\n",
      "\n",
      "col num :  3\n",
      "\n"
     ]
    }
   ],
   "source": [
    "dims <- dim(sleep)\n",
    "row <- dims[1]\n",
    "col <- dims[2]\n",
    "message(paste(\"row num : \", row))\n",
    "message(paste(\"col num : \", col))"
   ]
  },
  {
   "cell_type": "markdown",
   "metadata": {},
   "source": [
    "#### Ans:\n",
    "\n",
    "20 rows and 3 columns"
   ]
  },
  {
   "cell_type": "markdown",
   "metadata": {},
   "source": [
    "### 2. Please find out what attributes contains in the \"sleep\" dataset and explain it."
   ]
  },
  {
   "cell_type": "markdown",
   "metadata": {},
   "source": [
    "#### Code"
   ]
  },
  {
   "cell_type": "code",
   "execution_count": 35,
   "metadata": {
    "vscode": {
     "languageId": "r"
    }
   },
   "outputs": [
    {
     "name": "stderr",
     "output_type": "stream",
     "text": [
      "extra\n",
      "\n",
      "group\n",
      "\n",
      "ID\n",
      "\n"
     ]
    }
   ],
   "source": [
    "for (at in colnames(sleep)){\n",
    "    message(at)\n",
    "}\n",
    "    "
   ]
  },
  {
   "cell_type": "markdown",
   "metadata": {},
   "source": [
    "#### Ans:\n",
    "It has 3 attributions:\n",
    "- ```extra``` : increase in hours of sleep\n",
    "- ```group``` : drug given\n",
    "- ```ID``` : patient ID\n",
    "\n",
    "**reference**: https://r-data.pmagunia.com/dataset/r-dataset-package-datasets-sleep"
   ]
  },
  {
   "cell_type": "markdown",
   "metadata": {},
   "source": [
    "### 3. Please group the two soporific drugs and calculate the mean of increase in hours of sleep and median of increase in hours of sleep for each soporific drug"
   ]
  },
  {
   "cell_type": "markdown",
   "metadata": {},
   "source": [
    "#### Code"
   ]
  },
  {
   "cell_type": "code",
   "execution_count": 40,
   "metadata": {
    "vscode": {
     "languageId": "r"
    }
   },
   "outputs": [
    {
     "data": {
      "text/html": [
       "<table class=\"dataframe\">\n",
       "<caption>A tibble: 2 × 2</caption>\n",
       "<thead>\n",
       "\t<tr><th scope=col>group</th><th scope=col>mean_extra</th></tr>\n",
       "\t<tr><th scope=col>&lt;fct&gt;</th><th scope=col>&lt;dbl&gt;</th></tr>\n",
       "</thead>\n",
       "<tbody>\n",
       "\t<tr><td>1</td><td>0.75</td></tr>\n",
       "\t<tr><td>2</td><td>2.33</td></tr>\n",
       "</tbody>\n",
       "</table>\n"
      ],
      "text/latex": [
       "A tibble: 2 × 2\n",
       "\\begin{tabular}{ll}\n",
       " group & mean\\_extra\\\\\n",
       " <fct> & <dbl>\\\\\n",
       "\\hline\n",
       "\t 1 & 0.75\\\\\n",
       "\t 2 & 2.33\\\\\n",
       "\\end{tabular}\n"
      ],
      "text/markdown": [
       "\n",
       "A tibble: 2 × 2\n",
       "\n",
       "| group &lt;fct&gt; | mean_extra &lt;dbl&gt; |\n",
       "|---|---|\n",
       "| 1 | 0.75 |\n",
       "| 2 | 2.33 |\n",
       "\n"
      ],
      "text/plain": [
       "  group mean_extra\n",
       "1 1     0.75      \n",
       "2 2     2.33      "
      ]
     },
     "metadata": {},
     "output_type": "display_data"
    },
    {
     "data": {
      "text/html": [
       "<table class=\"dataframe\">\n",
       "<caption>A tibble: 2 × 2</caption>\n",
       "<thead>\n",
       "\t<tr><th scope=col>group</th><th scope=col>median_extra</th></tr>\n",
       "\t<tr><th scope=col>&lt;fct&gt;</th><th scope=col>&lt;dbl&gt;</th></tr>\n",
       "</thead>\n",
       "<tbody>\n",
       "\t<tr><td>1</td><td>0.35</td></tr>\n",
       "\t<tr><td>2</td><td>1.75</td></tr>\n",
       "</tbody>\n",
       "</table>\n"
      ],
      "text/latex": [
       "A tibble: 2 × 2\n",
       "\\begin{tabular}{ll}\n",
       " group & median\\_extra\\\\\n",
       " <fct> & <dbl>\\\\\n",
       "\\hline\n",
       "\t 1 & 0.35\\\\\n",
       "\t 2 & 1.75\\\\\n",
       "\\end{tabular}\n"
      ],
      "text/markdown": [
       "\n",
       "A tibble: 2 × 2\n",
       "\n",
       "| group &lt;fct&gt; | median_extra &lt;dbl&gt; |\n",
       "|---|---|\n",
       "| 1 | 0.35 |\n",
       "| 2 | 1.75 |\n",
       "\n"
      ],
      "text/plain": [
       "  group median_extra\n",
       "1 1     0.35        \n",
       "2 2     1.75        "
      ]
     },
     "metadata": {},
     "output_type": "display_data"
    }
   ],
   "source": [
    "drug_g <- sleep %>% group_by(group) \n",
    "mean_sleeptimeex <- drug_g %>% summarise(mean_extra=mean(extra))\n",
    "View(mean_sleeptimeex)\n",
    "median_sleeptimeex <- drug_g %>% summarise(median_extra=median(extra))\n",
    "View(median_sleeptimeex)"
   ]
  },
  {
   "cell_type": "markdown",
   "metadata": {},
   "source": [
    "#### Ans:\n",
    "\n",
    "increase in hours of sleep:\n",
    "\n",
    "||soporific drugs 1|soporific drugs 2|\n",
    "|-|-|-|\n",
    "|mean| 0.75| 2.33|\n",
    "|meadian| 0.35 | 1.75|\n",
    "\n"
   ]
  },
  {
   "cell_type": "markdown",
   "metadata": {},
   "source": [
    "### 4. Using any data visualization skill to present Which soporific drug can increase more sleep time? Please submit the figure and your code"
   ]
  },
  {
   "cell_type": "markdown",
   "metadata": {},
   "source": [
    "#### Code"
   ]
  },
  {
   "cell_type": "code",
   "execution_count": 11,
   "metadata": {
    "vscode": {
     "languageId": "r"
    }
   },
   "outputs": [
    {
     "name": "stderr",
     "output_type": "stream",
     "text": [
      "\u001b[1m\u001b[22mSaving 6.67 x 6.67 in image\n"
     ]
    },
    {
     "data": {
      "image/png": "[encoded data removed]",
      "text/plain": [
       "plot without title"
      ]
     },
     "metadata": {
      "image/png": {
       "height": 420,
       "width": 420
      }
     },
     "output_type": "display_data"
    }
   ],
   "source": [
    "ggplot(\n",
    "    data = sleep\n",
    ") + geom_point(\n",
    "    mapping = aes(x = group, y = extra,size=extra, color=extra)\n",
    ") + labs(title= \"Extra Time\")\n",
    "\n",
    "ggsave(file.path(\"plot\", \"sleep\", \"Extra_Time.jpg\"))"
   ]
  },
  {
   "cell_type": "markdown",
   "metadata": {},
   "source": [
    "## Q4\n",
    "\n",
    "quakes dataset exploration"
   ]
  },
  {
   "cell_type": "markdown",
   "metadata": {},
   "source": [
    "### 1. Please inspect data to find out what attributes contains in the \"quakes\" dataset and explain it."
   ]
  },
  {
   "cell_type": "markdown",
   "metadata": {},
   "source": [
    "#### Code"
   ]
  },
  {
   "cell_type": "code",
   "execution_count": 13,
   "metadata": {
    "vscode": {
     "languageId": "r"
    }
   },
   "outputs": [
    {
     "name": "stderr",
     "output_type": "stream",
     "text": [
      "lat\n",
      "\n",
      "long\n",
      "\n",
      "depth\n",
      "\n",
      "mag\n",
      "\n",
      "stations\n",
      "\n"
     ]
    }
   ],
   "source": [
    "for (at in colnames(quakes)){\n",
    "    message(at)\n",
    "}"
   ]
  },
  {
   "cell_type": "code",
   "execution_count": 14,
   "metadata": {
    "vscode": {
     "languageId": "r"
    }
   },
   "outputs": [
    {
     "data": {
      "text/html": [
       "TRUE"
      ],
      "text/latex": [
       "TRUE"
      ],
      "text/markdown": [
       "TRUE"
      ],
      "text/plain": [
       "[1] TRUE"
      ]
     },
     "metadata": {},
     "output_type": "display_data"
    }
   ],
   "source": [
    "# Get helpfile\n",
    "file <- help(quakes)\n",
    "pkgname <- basename(dirname(dirname(file)))\n",
    "temp <- tools::Rd2HTML(utils:::.getHelpFile(file), out = tempfile(\"Rtxt\"), \n",
    "                  package = pkgname)\n",
    "file.copy(temp,\".\\\\helpfile\\\\quakes.html\")"
   ]
  },
  {
   "cell_type": "markdown",
   "metadata": {},
   "source": [
    "#### Ans:\n",
    "Attributes:\n",
    "\n",
    "- lat : Latitude of event\n",
    "- long : Longitude of event\n",
    "- depth : Depth (km)\n",
    "- mag : Richter Magnitude\n",
    "- stations : Number of stations reporting"
   ]
  },
  {
   "cell_type": "markdown",
   "metadata": {},
   "source": [
    "### 2. How many observations magnitude > 5.0 and depth > 500 in this dataset?"
   ]
  },
  {
   "cell_type": "markdown",
   "metadata": {},
   "source": [
    "#### Code"
   ]
  },
  {
   "cell_type": "code",
   "execution_count": 16,
   "metadata": {
    "vscode": {
     "languageId": "r"
    }
   },
   "outputs": [
    {
     "data": {
      "text/html": [
       "<style>\n",
       ".list-inline {list-style: none; margin:0; padding: 0}\n",
       ".list-inline>li {display: inline-block}\n",
       ".list-inline>li:not(:last-child)::after {content: \"\\00b7\"; padding: 0 .5ex}\n",
       "</style>\n",
       "<ol class=list-inline><li>38</li><li>5</li></ol>\n"
      ],
      "text/latex": [
       "\\begin{enumerate*}\n",
       "\\item 38\n",
       "\\item 5\n",
       "\\end{enumerate*}\n"
      ],
      "text/markdown": [
       "1. 38\n",
       "2. 5\n",
       "\n",
       "\n"
      ],
      "text/plain": [
       "[1] 38  5"
      ]
     },
     "metadata": {},
     "output_type": "display_data"
    }
   ],
   "source": [
    "targetevent <- quakes[quakes$mag > 5.0 & quakes$depth > 500 ,]\n",
    "dim(targetevent)"
   ]
  },
  {
   "cell_type": "code",
   "execution_count": 24,
   "metadata": {
    "vscode": {
     "languageId": "r"
    }
   },
   "outputs": [
    {
     "name": "stderr",
     "output_type": "stream",
     "text": [
      "# stations :  38\n",
      "\n"
     ]
    }
   ],
   "source": [
    "num_of_stations <-targetevent[\n",
    "    !duplicated( targetevent[,c('stations')] ) ,\n",
    "]\n",
    "\n",
    "Nstations <- dim(targetevent)[1]\n",
    "message(paste(\"# stations : \", Nstations))"
   ]
  },
  {
   "cell_type": "markdown",
   "metadata": {},
   "source": [
    "#### Ans:\n",
    "38"
   ]
  },
  {
   "cell_type": "markdown",
   "metadata": {},
   "source": [
    "### 3.Following the previous question(magnitude > 5.0 and depth > 500), please plot the scatter plot by longitude(long) and latitude(lat) and color by the magnitude."
   ]
  },
  {
   "cell_type": "markdown",
   "metadata": {},
   "source": [
    "#### Code"
   ]
  },
  {
   "cell_type": "code",
   "execution_count": 29,
   "metadata": {
    "vscode": {
     "languageId": "r"
    }
   },
   "outputs": [
    {
     "name": "stderr",
     "output_type": "stream",
     "text": [
      "\u001b[1m\u001b[22mSaving 6.67 x 6.67 in image\n"
     ]
    },
    {
     "data": {
      "image/png": "[encoded data removed]",
      "text/plain": [
       "plot without title"
      ]
     },
     "metadata": {
      "image/png": {
       "height": 420,
       "width": 420
      }
     },
     "output_type": "display_data"
    }
   ],
   "source": [
    "ggplot(\n",
    "    targetevent, aes(x=long, y=lat, color=mag, size=5)\n",
    ")+ geom_point()+labs(title=\"Mag in Geometric space\")\n",
    "\n",
    "ggsave(file.path(\"plot\",\"quake\",\"Mag_Geo.jpg\"))"
   ]
  },
  {
   "cell_type": "markdown",
   "metadata": {},
   "source": [
    "### 4. Please plot the box plot by magnitude to find out how many outliers in the figure? Tips: x = factor(0)"
   ]
  },
  {
   "cell_type": "markdown",
   "metadata": {},
   "source": [
    "#### Code"
   ]
  },
  {
   "cell_type": "code",
   "execution_count": 61,
   "metadata": {
    "vscode": {
     "languageId": "r"
    }
   },
   "outputs": [
    {
     "data": {
      "image/png": "[encoded data removed]",
      "text/plain": [
       "plot without title"
      ]
     },
     "metadata": {
      "image/png": {
       "height": 420,
       "width": 420
      }
     },
     "output_type": "display_data"
    }
   ],
   "source": [
    "ggplot(\n",
    "    quakes, aes(x=factor(0), y = mag)\n",
    ") +geom_boxplot()\n"
   ]
  },
  {
   "cell_type": "markdown",
   "metadata": {},
   "source": [
    "#### Ans:\n",
    "According to the ox plot,\n",
    "number of outliners = 4. "
   ]
  },
  {
   "cell_type": "markdown",
   "metadata": {},
   "source": [
    "### 5. Please plot the histogram by magnitude frequency to find out the distribution. Tips: Please note the width of the bin when you plot."
   ]
  },
  {
   "cell_type": "markdown",
   "metadata": {},
   "source": [
    "#### Code"
   ]
  },
  {
   "cell_type": "code",
   "execution_count": 58,
   "metadata": {
    "vscode": {
     "languageId": "r"
    }
   },
   "outputs": [
    {
     "name": "stderr",
     "output_type": "stream",
     "text": [
      "\u001b[1m\u001b[22mSaving 6.67 x 6.67 in image\n"
     ]
    },
    {
     "data": {
      "image/png": "[encoded data removed]",
      "text/plain": [
       "plot without title"
      ]
     },
     "metadata": {
      "image/png": {
       "height": 420,
       "width": 420
      }
     },
     "output_type": "display_data"
    }
   ],
   "source": [
    "ggplot(\n",
    "    quakes, aes(x=mag)\n",
    ")+geom_histogram(\n",
    "    aes(y = after_stat(count / sum(count))),\n",
    "    binwidth = 0.3\n",
    ")+labs(y=\"Magnitude\"\n",
    ")+scale_y_continuous(labels = scales::percent)\n",
    "ggsave(file.path(\"plot\", \"quake\", \"mag_freq.jpg\"))"
   ]
  },
  {
   "cell_type": "markdown",
   "metadata": {},
   "source": [
    "### 6. Please plot the histogram by depth frequency to find out the distribution. Tips: Please note the width of the bin when you plot"
   ]
  },
  {
   "cell_type": "markdown",
   "metadata": {},
   "source": [
    "#### Code"
   ]
  },
  {
   "cell_type": "code",
   "execution_count": 50,
   "metadata": {
    "vscode": {
     "languageId": "r"
    }
   },
   "outputs": [
    {
     "name": "stderr",
     "output_type": "stream",
     "text": [
      "\u001b[1m\u001b[22mSaving 6.67 x 6.67 in image\n"
     ]
    },
    {
     "data": {
      "image/png": "[encoded data removed]",
      "text/plain": [
       "plot without title"
      ]
     },
     "metadata": {
      "image/png": {
       "height": 420,
       "width": 420
      }
     },
     "output_type": "display_data"
    }
   ],
   "source": [
    "ggplot(\n",
    "    quakes, aes(x=depth)\n",
    ")+geom_histogram(\n",
    "    aes(y = after_stat(count / sum(count))),\n",
    "    binwidth = 10\n",
    ")+labs(y=\"Frequency\"\n",
    ")+scale_y_continuous(labels = scales::percent)\n",
    "ggsave(file.path(\"plot\", \"quake\", \"depth_freq.jpg\"))"
   ]
  }
 ],
 "metadata": {
  "kernelspec": {
   "display_name": "R",
   "language": "R",
   "name": "ir"
  },
  "language_info": {
   "codemirror_mode": "r",
   "file_extension": ".r",
   "mimetype": "text/x-r-source",
   "name": "R",
   "pygments_lexer": "r",
   "version": "4.2.2"
  },
  "orig_nbformat": 4,
  "vscode": {
   "interpreter": {
    "hash": "9a550ae248acba91885e613ebe3aa3ed7f069ddfb68236441181a40ae0b658e9"
   }
  }
 },
 "nbformat": 4,
 "nbformat_minor": 2
}
